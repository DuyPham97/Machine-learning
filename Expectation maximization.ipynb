{
 "cells": [
  {
   "cell_type": "code",
   "execution_count": 28,
   "metadata": {},
   "outputs": [],
   "source": [
    "import numpy as np\n",
    "from scipy.stats import binom\n",
    "import math\n",
    "\n",
    "data = np.array(([14, 33, 19, 10, 0, 17, 24, 17, 1, 36, 5, 6, 5, 13, 4, 35, 5, 5, 74, 34],\n",
    "                 [41, 43, 23, 23, 1, 23, 36, 37, 2, 131, 5, 29, 13, 47, 10, 58, 15, 14, 100, 113]))    "
   ]
  },
  {
   "cell_type": "code",
   "execution_count": 29,
   "metadata": {},
   "outputs": [
    {
     "name": "stdout",
     "output_type": "stream",
     "text": [
      "EM converges in 5 steps\n",
      "Results: [0.71253101 0.31411443]\n"
     ]
    }
   ],
   "source": [
    "import numpy as np\n",
    "from scipy.stats import binom\n",
    "import math\n",
    "\n",
    "data = np.array(([14, 33, 19, 10, 0, 17, 24, 17, 1, 36, 5, 6, 5, 13, 4, 35, 5, 5, 74, 34],\n",
    "                 [41, 43, 23, 23, 1, 23, 36, 37, 2, 131, 5, 29, 13, 47, 10, 58, 15, 14, 100, 113]))    \n",
    "def EM(inits, data): \n",
    "    #E-step: calculate the expected probability for the latent variable assigning mechanism for each datapoint\n",
    "    p_As, p_Bs = [], []\n",
    "    for _ in range(data.shape[1]):\n",
    "        p_A = binom.pmf(data[0,_],data[1,_],inits[0])/(binom.pmf(data[0,_],data[1,_],inits[0])\n",
    "                                                      +binom.pmf(data[0,_],data[1,_],inits[1]))\n",
    "        p_B = 1 - p_A\n",
    "        p_As.append(p_A)\n",
    "        p_Bs.append(p_B)\n",
    "    #M-step: MLE for inits under the calculated expected probability of the latent variable\n",
    "    p_As, p_Bs = np.array(p_As), np.array(p_Bs)\n",
    "    updates = []\n",
    "    updates.append(np.sum(p_As*data[0,:])/np.sum(p_As*data[1,:]))\n",
    "    updates.append(np.sum(p_Bs*data[0,:])/np.sum(p_Bs*data[1,:]))\n",
    "    return np.array(updates)\n",
    "\n",
    "count = 0\n",
    "inits = np.array([0.7 ,0.3])\n",
    "check_A, check_B = 10, 10\n",
    "while check_A > 0.00001 or check_B > 0.00001:\n",
    "    updates = EM(inits,data)\n",
    "    check_A, check_B = math.fabs(updates[0]-inits[0]), math.fabs(updates[1]-inits[1])\n",
    "    inits = updates\n",
    "    count += 1\n",
    "    \n",
    "print('EM converges in %s steps' %count)\n",
    "print('Results:', inits)"
   ]
  },
  {
   "cell_type": "code",
   "execution_count": null,
   "metadata": {},
   "outputs": [],
   "source": [
    "#Manh\n",
    "import numpy as np\n",
    "theta = [0.7,0.3]\n",
    "heads = [14, 33, 19, 10, 0, 17, 24, 17, 1, 36, 5, 6, 5, 13, 4, 35, 5, 5, 74, 34]\n",
    "throws = [41, 43, 23, 23, 1, 23, 36, 37, 2, 131, 5, 29, 13, 47, 10, 58, 15, 14, 100, 113]\n",
    "def fac(k):\n",
    "    if k == 0 or k == 1:\n",
    "        return 1\n",
    "    return k*fac(k-1)\n",
    "def c(n,k):\n",
    "    return fac(n)//(fac(k)*fac(n-k))\n",
    "\n",
    "\n",
    "def EM(theta,heads,throws):\n",
    "    rang = [0+0.01*i for i in range(1,100)]\n",
    "    q = [[None for i in range(len(heads))] for i in range(2)]\n",
    "    k = [None for i in range(len(heads))]\n",
    "    old = theta\n",
    "    real = [0,0]\n",
    "    while (real[0]-old[0])**2+(real[1]-old[1])**2 > 0.001:\n",
    "        for j in range(len(heads)):\n",
    "            #Choosing the hidden variable by picking one that\n",
    "            #is more likely with the current parameters\n",
    "            q[0][j] = c(throws[j],heads[j])*theta[0]**heads[j]*(1-theta[0])**(throws[j]-heads[j])\n",
    "            q[1][j] = c(throws[j],heads[j])*theta[1]**heads[j]*(1-theta[1])**(throws[j]-heads[j])\n",
    "            \n",
    "            if q[0][j] >= q[1][j]:\n",
    "                k[j] = 0\n",
    "            else:\n",
    "                k[j] = 1\n",
    "        throw,head = 0,0\n",
    "        for cur in rang:\n",
    "            x = 0\n",
    "            for i in range(len(heads)):\n",
    "                if k[i] == 0:\n",
    "                    throw += throws[i]\n",
    "                    head += heads[i]\n",
    "            real[0] = head/throw\n",
    "        throw,head = 0,0\n",
    "        for cur in rang:\n",
    "            x = 0\n",
    "            for i in range(len(heads)):\n",
    "                if k[i] == 1:\n",
    "                    throw += throws[i]\n",
    "                    head += heads[i]\n",
    "            real[1] = head/throw\n",
    "        old = real\n",
    "    return real\n",
    "print(EM(theta,heads,throws))\n"
   ]
  }
 ],
 "metadata": {
  "kernelspec": {
   "display_name": "Python 3",
   "language": "python",
   "name": "python3"
  },
  "language_info": {
   "codemirror_mode": {
    "name": "ipython",
    "version": 3
   },
   "file_extension": ".py",
   "mimetype": "text/x-python",
   "name": "python",
   "nbconvert_exporter": "python",
   "pygments_lexer": "ipython3",
   "version": "3.6.5"
  }
 },
 "nbformat": 4,
 "nbformat_minor": 2
}
