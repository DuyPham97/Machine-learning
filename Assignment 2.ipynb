{
 "cells": [
  {
   "cell_type": "markdown",
   "metadata": {},
   "source": [
    "## Pre-process the data"
   ]
  },
  {
   "cell_type": "code",
   "execution_count": 28,
   "metadata": {},
   "outputs": [
    {
     "name": "stderr",
     "output_type": "stream",
     "text": [
      "C:\\ProgramData\\Anaconda3\\lib\\site-packages\\IPython\\core\\interactiveshell.py:2785: DtypeWarning: Columns (0,123,124,125,128,129,130,133,139,140,141) have mixed types. Specify dtype option on import or set low_memory=False.\n",
      "  interactivity=interactivity, compiler=compiler, result=result)\n"
     ]
    }
   ],
   "source": [
    "approve = pd.read_csv (\"LoanStats_2018Q3.csv\", skiprows=1)\n",
    "reject = pd.read_csv (\"RejectStats_2018Q3.csv\",skiprows=1)"
   ]
  },
  {
   "cell_type": "code",
   "execution_count": 29,
   "metadata": {},
   "outputs": [],
   "source": [
    "#Choose the columns to keep\n",
    "reject_name = ['Amount Requested','Loan Title','Debt-To-Income Ratio',\n",
    "               'State','Employment Length','Policy Code']\n",
    "approve_name = ['loan_amnt', 'title', 'dti', 'addr_state', 'emp_length', 'policy_code']\n",
    "\n",
    "#Keep the specific columns\n",
    "reject = reject [reject_name]\n",
    "approve = approve [approve_name]\n",
    "approve.columns = ['Amount Requested','Loan Title','Debt-To-Income Ratio','State','Employment Length','Policy Code']"
   ]
  },
  {
   "cell_type": "code",
   "execution_count": 30,
   "metadata": {
    "scrolled": true
   },
   "outputs": [],
   "source": [
    "#Clean the accepted: debt-to-ratio income should reduce\n",
    "approve['Debt-To-Income Ratio'] = approve['Debt-To-Income Ratio']/100\n",
    "approve['Approved'] = 1\n",
    "\n",
    "#Clean the rejected data: Change the percentage string to float number\n",
    "reject['Debt-To-Income Ratio'] = reject['Debt-To-Income Ratio'].str.rstrip('%').astype('float') / 100.0\n",
    "reject['Approved'] = 0"
   ]
  },
  {
   "cell_type": "code",
   "execution_count": 31,
   "metadata": {},
   "outputs": [
    {
     "data": {
      "text/html": [
       "<div>\n",
       "<style scoped>\n",
       "    .dataframe tbody tr th:only-of-type {\n",
       "        vertical-align: middle;\n",
       "    }\n",
       "\n",
       "    .dataframe tbody tr th {\n",
       "        vertical-align: top;\n",
       "    }\n",
       "\n",
       "    .dataframe thead th {\n",
       "        text-align: right;\n",
       "    }\n",
       "</style>\n",
       "<table border=\"1\" class=\"dataframe\">\n",
       "  <thead>\n",
       "    <tr style=\"text-align: right;\">\n",
       "      <th></th>\n",
       "      <th>Amount Requested</th>\n",
       "      <th>Loan Title</th>\n",
       "      <th>Debt-To-Income Ratio</th>\n",
       "      <th>State</th>\n",
       "      <th>Employment Length</th>\n",
       "      <th>Policy Code</th>\n",
       "      <th>Approved</th>\n",
       "    </tr>\n",
       "  </thead>\n",
       "  <tbody>\n",
       "    <tr>\n",
       "      <th>0</th>\n",
       "      <td>10000.0</td>\n",
       "      <td>Credit card refinancing</td>\n",
       "      <td>0.1922</td>\n",
       "      <td>NJ</td>\n",
       "      <td>10+ years</td>\n",
       "      <td>1.0</td>\n",
       "      <td>1</td>\n",
       "    </tr>\n",
       "    <tr>\n",
       "      <th>1</th>\n",
       "      <td>15000.0</td>\n",
       "      <td>Debt consolidation</td>\n",
       "      <td>0.2560</td>\n",
       "      <td>VA</td>\n",
       "      <td>10+ years</td>\n",
       "      <td>1.0</td>\n",
       "      <td>1</td>\n",
       "    </tr>\n",
       "    <tr>\n",
       "      <th>2</th>\n",
       "      <td>8500.0</td>\n",
       "      <td>Debt consolidation</td>\n",
       "      <td>0.0633</td>\n",
       "      <td>AZ</td>\n",
       "      <td>2 years</td>\n",
       "      <td>1.0</td>\n",
       "      <td>1</td>\n",
       "    </tr>\n",
       "    <tr>\n",
       "      <th>3</th>\n",
       "      <td>35000.0</td>\n",
       "      <td>Debt consolidation</td>\n",
       "      <td>0.1707</td>\n",
       "      <td>NH</td>\n",
       "      <td>4 years</td>\n",
       "      <td>1.0</td>\n",
       "      <td>1</td>\n",
       "    </tr>\n",
       "    <tr>\n",
       "      <th>4</th>\n",
       "      <td>28000.0</td>\n",
       "      <td>Debt consolidation</td>\n",
       "      <td>0.1324</td>\n",
       "      <td>CA</td>\n",
       "      <td>10+ years</td>\n",
       "      <td>1.0</td>\n",
       "      <td>1</td>\n",
       "    </tr>\n",
       "  </tbody>\n",
       "</table>\n",
       "</div>"
      ],
      "text/plain": [
       "   Amount Requested               Loan Title  Debt-To-Income Ratio State  \\\n",
       "0           10000.0  Credit card refinancing                0.1922    NJ   \n",
       "1           15000.0       Debt consolidation                0.2560    VA   \n",
       "2            8500.0       Debt consolidation                0.0633    AZ   \n",
       "3           35000.0       Debt consolidation                0.1707    NH   \n",
       "4           28000.0       Debt consolidation                0.1324    CA   \n",
       "\n",
       "  Employment Length  Policy Code  Approved  \n",
       "0         10+ years          1.0         1  \n",
       "1         10+ years          1.0         1  \n",
       "2           2 years          1.0         1  \n",
       "3           4 years          1.0         1  \n",
       "4         10+ years          1.0         1  "
      ]
     },
     "execution_count": 31,
     "metadata": {},
     "output_type": "execute_result"
    }
   ],
   "source": [
    "approve.head()"
   ]
  },
  {
   "cell_type": "code",
   "execution_count": 33,
   "metadata": {},
   "outputs": [
    {
     "data": {
      "text/plain": [
       "16093.91215657519"
      ]
     },
     "execution_count": 33,
     "metadata": {},
     "output_type": "execute_result"
    }
   ],
   "source": [
    "np.mean(approve['Amount Requested'])"
   ]
  },
  {
   "cell_type": "code",
   "execution_count": 34,
   "metadata": {},
   "outputs": [
    {
     "data": {
      "text/plain": [
       "13475.061193039732"
      ]
     },
     "execution_count": 34,
     "metadata": {},
     "output_type": "execute_result"
    }
   ],
   "source": [
    "np.mean(reject['Amount Requested'])"
   ]
  },
  {
   "cell_type": "code",
   "execution_count": 32,
   "metadata": {},
   "outputs": [
    {
     "data": {
      "text/html": [
       "<div>\n",
       "<style scoped>\n",
       "    .dataframe tbody tr th:only-of-type {\n",
       "        vertical-align: middle;\n",
       "    }\n",
       "\n",
       "    .dataframe tbody tr th {\n",
       "        vertical-align: top;\n",
       "    }\n",
       "\n",
       "    .dataframe thead th {\n",
       "        text-align: right;\n",
       "    }\n",
       "</style>\n",
       "<table border=\"1\" class=\"dataframe\">\n",
       "  <thead>\n",
       "    <tr style=\"text-align: right;\">\n",
       "      <th></th>\n",
       "      <th>Amount Requested</th>\n",
       "      <th>Loan Title</th>\n",
       "      <th>Debt-To-Income Ratio</th>\n",
       "      <th>State</th>\n",
       "      <th>Employment Length</th>\n",
       "      <th>Policy Code</th>\n",
       "      <th>Approved</th>\n",
       "    </tr>\n",
       "  </thead>\n",
       "  <tbody>\n",
       "    <tr>\n",
       "      <th>0</th>\n",
       "      <td>3000.0</td>\n",
       "      <td>Debt consolidation</td>\n",
       "      <td>1.0000</td>\n",
       "      <td>CA</td>\n",
       "      <td>&lt; 1 year</td>\n",
       "      <td>0</td>\n",
       "      <td>0</td>\n",
       "    </tr>\n",
       "    <tr>\n",
       "      <th>1</th>\n",
       "      <td>40000.0</td>\n",
       "      <td>Major purchase</td>\n",
       "      <td>0.0745</td>\n",
       "      <td>FL</td>\n",
       "      <td>&lt; 1 year</td>\n",
       "      <td>0</td>\n",
       "      <td>0</td>\n",
       "    </tr>\n",
       "    <tr>\n",
       "      <th>2</th>\n",
       "      <td>16000.0</td>\n",
       "      <td>Debt consolidation</td>\n",
       "      <td>0.3493</td>\n",
       "      <td>PA</td>\n",
       "      <td>&lt; 1 year</td>\n",
       "      <td>0</td>\n",
       "      <td>0</td>\n",
       "    </tr>\n",
       "    <tr>\n",
       "      <th>3</th>\n",
       "      <td>40000.0</td>\n",
       "      <td>Debt consolidation</td>\n",
       "      <td>0.2787</td>\n",
       "      <td>CA</td>\n",
       "      <td>&lt; 1 year</td>\n",
       "      <td>0</td>\n",
       "      <td>0</td>\n",
       "    </tr>\n",
       "    <tr>\n",
       "      <th>4</th>\n",
       "      <td>300000.0</td>\n",
       "      <td>Business Loan</td>\n",
       "      <td>-0.0100</td>\n",
       "      <td>TN</td>\n",
       "      <td>&lt; 1 year</td>\n",
       "      <td>0</td>\n",
       "      <td>0</td>\n",
       "    </tr>\n",
       "  </tbody>\n",
       "</table>\n",
       "</div>"
      ],
      "text/plain": [
       "   Amount Requested          Loan Title  Debt-To-Income Ratio State  \\\n",
       "0            3000.0  Debt consolidation                1.0000    CA   \n",
       "1           40000.0      Major purchase                0.0745    FL   \n",
       "2           16000.0  Debt consolidation                0.3493    PA   \n",
       "3           40000.0  Debt consolidation                0.2787    CA   \n",
       "4          300000.0       Business Loan               -0.0100    TN   \n",
       "\n",
       "  Employment Length  Policy Code  Approved  \n",
       "0          < 1 year            0         0  \n",
       "1          < 1 year            0         0  \n",
       "2          < 1 year            0         0  \n",
       "3          < 1 year            0         0  \n",
       "4          < 1 year            0         0  "
      ]
     },
     "execution_count": 32,
     "metadata": {},
     "output_type": "execute_result"
    }
   ],
   "source": [
    "reject.head()"
   ]
  },
  {
   "cell_type": "code",
   "execution_count": 15,
   "metadata": {},
   "outputs": [],
   "source": [
    "data = pd.concat([approve, reject])"
   ]
  },
  {
   "cell_type": "code",
   "execution_count": 16,
   "metadata": {},
   "outputs": [
    {
     "data": {
      "text/plain": [
       "(2713441, 7)"
      ]
     },
     "execution_count": 16,
     "metadata": {},
     "output_type": "execute_result"
    }
   ],
   "source": [
    "data.shape"
   ]
  },
  {
   "cell_type": "code",
   "execution_count": 17,
   "metadata": {},
   "outputs": [
    {
     "name": "stdout",
     "output_type": "stream",
     "text": [
      "Number of missing data is: \n",
      " Amount Requested             2\n",
      "Loan Title                   2\n",
      "Debt-To-Income Ratio       309\n",
      "State                        2\n",
      "Employment Length       114476\n",
      "Policy Code                  2\n",
      "Approved                     0\n",
      "dtype: int64\n"
     ]
    }
   ],
   "source": [
    "#Calculate the number of missing data\n",
    "null_counts = data.isnull().sum()\n",
    "print (\"Number of missing data is: \\n {}\".format(null_counts))"
   ]
  },
  {
   "cell_type": "code",
   "execution_count": 18,
   "metadata": {},
   "outputs": [],
   "source": [
    "#Drop NA data of the columns whose the number of data is too small\n",
    "data = data.dropna(subset = ['Amount Requested', 'Loan Title', 'State', 'Approved', 'Debt-To-Income Ratio'])"
   ]
  },
  {
   "cell_type": "code",
   "execution_count": 19,
   "metadata": {},
   "outputs": [],
   "source": [
    "#Replace the ordinal values of employment length into numeric number\n",
    "#For missing data, I consider that as 0 year experience. \n",
    "#This line of thoughts go along with the general thoughts of the audiencce\n",
    "mapping_dict = {\n",
    "    \"Employment Length\": {\n",
    "        \"10+ years\": 10,\n",
    "        \"9 years\": 9,\n",
    "        \"8 years\": 8,\n",
    "        \"7 years\": 7,\n",
    "        \"6 years\": 6,\n",
    "        \"5 years\": 5,\n",
    "        \"4 years\": 4,\n",
    "        \"3 years\": 3,\n",
    "        \"2 years\": 2,\n",
    "        \"1 year\": 1,\n",
    "        \"< 1 year\": 0,\n",
    "        \"n/a\": 0\n",
    "    }\n",
    "}\n",
    "data = data.replace(mapping_dict)\n",
    "data['Employment Length'] = data['Employment Length'].fillna(0)"
   ]
  },
  {
   "cell_type": "code",
   "execution_count": 20,
   "metadata": {},
   "outputs": [
    {
     "data": {
      "text/html": [
       "<div>\n",
       "<style scoped>\n",
       "    .dataframe tbody tr th:only-of-type {\n",
       "        vertical-align: middle;\n",
       "    }\n",
       "\n",
       "    .dataframe tbody tr th {\n",
       "        vertical-align: top;\n",
       "    }\n",
       "\n",
       "    .dataframe thead th {\n",
       "        text-align: right;\n",
       "    }\n",
       "</style>\n",
       "<table border=\"1\" class=\"dataframe\">\n",
       "  <thead>\n",
       "    <tr style=\"text-align: right;\">\n",
       "      <th></th>\n",
       "      <th>Amount Requested</th>\n",
       "      <th>Debt-To-Income Ratio</th>\n",
       "      <th>Employment Length</th>\n",
       "      <th>Policy Code</th>\n",
       "      <th>Approved</th>\n",
       "      <th>Loan Title_Business</th>\n",
       "      <th>Loan Title_Business Loan</th>\n",
       "      <th>Loan Title_Car financing</th>\n",
       "      <th>Loan Title_Credit card refinancing</th>\n",
       "      <th>Loan Title_Debt consolidation</th>\n",
       "      <th>...</th>\n",
       "      <th>State_SD</th>\n",
       "      <th>State_TN</th>\n",
       "      <th>State_TX</th>\n",
       "      <th>State_UT</th>\n",
       "      <th>State_VA</th>\n",
       "      <th>State_VT</th>\n",
       "      <th>State_WA</th>\n",
       "      <th>State_WI</th>\n",
       "      <th>State_WV</th>\n",
       "      <th>State_WY</th>\n",
       "    </tr>\n",
       "  </thead>\n",
       "  <tbody>\n",
       "    <tr>\n",
       "      <th>0</th>\n",
       "      <td>10000.0</td>\n",
       "      <td>0.1922</td>\n",
       "      <td>10.0</td>\n",
       "      <td>1.0</td>\n",
       "      <td>1</td>\n",
       "      <td>0</td>\n",
       "      <td>0</td>\n",
       "      <td>0</td>\n",
       "      <td>1</td>\n",
       "      <td>0</td>\n",
       "      <td>...</td>\n",
       "      <td>0</td>\n",
       "      <td>0</td>\n",
       "      <td>0</td>\n",
       "      <td>0</td>\n",
       "      <td>0</td>\n",
       "      <td>0</td>\n",
       "      <td>0</td>\n",
       "      <td>0</td>\n",
       "      <td>0</td>\n",
       "      <td>0</td>\n",
       "    </tr>\n",
       "    <tr>\n",
       "      <th>1</th>\n",
       "      <td>15000.0</td>\n",
       "      <td>0.2560</td>\n",
       "      <td>10.0</td>\n",
       "      <td>1.0</td>\n",
       "      <td>1</td>\n",
       "      <td>0</td>\n",
       "      <td>0</td>\n",
       "      <td>0</td>\n",
       "      <td>0</td>\n",
       "      <td>1</td>\n",
       "      <td>...</td>\n",
       "      <td>0</td>\n",
       "      <td>0</td>\n",
       "      <td>0</td>\n",
       "      <td>0</td>\n",
       "      <td>1</td>\n",
       "      <td>0</td>\n",
       "      <td>0</td>\n",
       "      <td>0</td>\n",
       "      <td>0</td>\n",
       "      <td>0</td>\n",
       "    </tr>\n",
       "    <tr>\n",
       "      <th>2</th>\n",
       "      <td>8500.0</td>\n",
       "      <td>0.0633</td>\n",
       "      <td>2.0</td>\n",
       "      <td>1.0</td>\n",
       "      <td>1</td>\n",
       "      <td>0</td>\n",
       "      <td>0</td>\n",
       "      <td>0</td>\n",
       "      <td>0</td>\n",
       "      <td>1</td>\n",
       "      <td>...</td>\n",
       "      <td>0</td>\n",
       "      <td>0</td>\n",
       "      <td>0</td>\n",
       "      <td>0</td>\n",
       "      <td>0</td>\n",
       "      <td>0</td>\n",
       "      <td>0</td>\n",
       "      <td>0</td>\n",
       "      <td>0</td>\n",
       "      <td>0</td>\n",
       "    </tr>\n",
       "    <tr>\n",
       "      <th>3</th>\n",
       "      <td>35000.0</td>\n",
       "      <td>0.1707</td>\n",
       "      <td>4.0</td>\n",
       "      <td>1.0</td>\n",
       "      <td>1</td>\n",
       "      <td>0</td>\n",
       "      <td>0</td>\n",
       "      <td>0</td>\n",
       "      <td>0</td>\n",
       "      <td>1</td>\n",
       "      <td>...</td>\n",
       "      <td>0</td>\n",
       "      <td>0</td>\n",
       "      <td>0</td>\n",
       "      <td>0</td>\n",
       "      <td>0</td>\n",
       "      <td>0</td>\n",
       "      <td>0</td>\n",
       "      <td>0</td>\n",
       "      <td>0</td>\n",
       "      <td>0</td>\n",
       "    </tr>\n",
       "    <tr>\n",
       "      <th>4</th>\n",
       "      <td>28000.0</td>\n",
       "      <td>0.1324</td>\n",
       "      <td>10.0</td>\n",
       "      <td>1.0</td>\n",
       "      <td>1</td>\n",
       "      <td>0</td>\n",
       "      <td>0</td>\n",
       "      <td>0</td>\n",
       "      <td>0</td>\n",
       "      <td>1</td>\n",
       "      <td>...</td>\n",
       "      <td>0</td>\n",
       "      <td>0</td>\n",
       "      <td>0</td>\n",
       "      <td>0</td>\n",
       "      <td>0</td>\n",
       "      <td>0</td>\n",
       "      <td>0</td>\n",
       "      <td>0</td>\n",
       "      <td>0</td>\n",
       "      <td>0</td>\n",
       "    </tr>\n",
       "  </tbody>\n",
       "</table>\n",
       "<p>5 rows × 70 columns</p>\n",
       "</div>"
      ],
      "text/plain": [
       "   Amount Requested  Debt-To-Income Ratio  Employment Length  Policy Code  \\\n",
       "0           10000.0                0.1922               10.0          1.0   \n",
       "1           15000.0                0.2560               10.0          1.0   \n",
       "2            8500.0                0.0633                2.0          1.0   \n",
       "3           35000.0                0.1707                4.0          1.0   \n",
       "4           28000.0                0.1324               10.0          1.0   \n",
       "\n",
       "   Approved  Loan Title_Business  Loan Title_Business Loan  \\\n",
       "0         1                    0                         0   \n",
       "1         1                    0                         0   \n",
       "2         1                    0                         0   \n",
       "3         1                    0                         0   \n",
       "4         1                    0                         0   \n",
       "\n",
       "   Loan Title_Car financing  Loan Title_Credit card refinancing  \\\n",
       "0                         0                                   1   \n",
       "1                         0                                   0   \n",
       "2                         0                                   0   \n",
       "3                         0                                   0   \n",
       "4                         0                                   0   \n",
       "\n",
       "   Loan Title_Debt consolidation    ...     State_SD  State_TN  State_TX  \\\n",
       "0                              0    ...            0         0         0   \n",
       "1                              1    ...            0         0         0   \n",
       "2                              1    ...            0         0         0   \n",
       "3                              1    ...            0         0         0   \n",
       "4                              1    ...            0         0         0   \n",
       "\n",
       "   State_UT  State_VA  State_VT  State_WA  State_WI  State_WV  State_WY  \n",
       "0         0         0         0         0         0         0         0  \n",
       "1         0         1         0         0         0         0         0  \n",
       "2         0         0         0         0         0         0         0  \n",
       "3         0         0         0         0         0         0         0  \n",
       "4         0         0         0         0         0         0         0  \n",
       "\n",
       "[5 rows x 70 columns]"
      ]
     },
     "execution_count": 20,
     "metadata": {},
     "output_type": "execute_result"
    }
   ],
   "source": [
    "#Convert the nominal values into dummy variables\n",
    "nominal_columns = ['Loan Title', 'State']\n",
    "dummy_data = pd.get_dummies (data[nominal_columns])\n",
    "data = pd.concat ([data, dummy_data], axis = 1)\n",
    "data = data.drop (nominal_columns, axis = 1)\n",
    "data.head()"
   ]
  },
  {
   "cell_type": "code",
   "execution_count": 21,
   "metadata": {},
   "outputs": [
    {
     "data": {
      "image/png": "[encoded data removed]",
      "text/plain": [
       "<Figure size 432x288 with 2 Axes>"
      ]
     },
     "metadata": {},
     "output_type": "display_data"
    }
   ],
   "source": [
    "#The high variance in the amount requested might distort the classification task.  \n",
    "#I will use the min-max scale to normalize the numeric data. \n",
    "\n",
    "scaler_1 = MinMaxScaler()\n",
    "scaler_2 = MinMaxScaler()\n",
    "scaler_3 = MinMaxScaler()\n",
    "data['Amount Requested'] = scaler_1.fit_transform(np.array(data['Amount Requested']).reshape(-1,1))\n",
    "data['Debt-To-Income Ratio'] = scaler_2.fit_transform(np.array(data['Debt-To-Income Ratio']).reshape(-1,1))\n",
    "data['Employment Length'] = scaler_3.fit_transform(np.array(data['Employment Length']).reshape(-1,1))\n",
    "\n",
    "plt.subplot(2,1,1)\n",
    "plt.hist(np.array(data['Amount Requested']), bins=20, density=True, log=True)\n",
    "plt.title('Scaled Histograms')\n",
    "plt.subplot(2,1,2)\n",
    "plt.hist(np.array(data['Debt-To-Income Ratio']), bins=20, density=True, log=True)\n",
    "plt.show()"
   ]
  },
  {
   "cell_type": "code",
   "execution_count": 22,
   "metadata": {},
   "outputs": [
    {
     "data": {
      "text/html": [
       "<div>\n",
       "<style scoped>\n",
       "    .dataframe tbody tr th:only-of-type {\n",
       "        vertical-align: middle;\n",
       "    }\n",
       "\n",
       "    .dataframe tbody tr th {\n",
       "        vertical-align: top;\n",
       "    }\n",
       "\n",
       "    .dataframe thead th {\n",
       "        text-align: right;\n",
       "    }\n",
       "</style>\n",
       "<table border=\"1\" class=\"dataframe\">\n",
       "  <thead>\n",
       "    <tr style=\"text-align: right;\">\n",
       "      <th></th>\n",
       "      <th>Amount Requested</th>\n",
       "      <th>Debt-To-Income Ratio</th>\n",
       "      <th>Employment Length</th>\n",
       "      <th>Policy Code</th>\n",
       "      <th>Approved</th>\n",
       "      <th>Loan Title_Business</th>\n",
       "      <th>Loan Title_Business Loan</th>\n",
       "      <th>Loan Title_Car financing</th>\n",
       "      <th>Loan Title_Credit card refinancing</th>\n",
       "      <th>Loan Title_Debt consolidation</th>\n",
       "      <th>...</th>\n",
       "      <th>State_SD</th>\n",
       "      <th>State_TN</th>\n",
       "      <th>State_TX</th>\n",
       "      <th>State_UT</th>\n",
       "      <th>State_VA</th>\n",
       "      <th>State_VT</th>\n",
       "      <th>State_WA</th>\n",
       "      <th>State_WI</th>\n",
       "      <th>State_WV</th>\n",
       "      <th>State_WY</th>\n",
       "    </tr>\n",
       "  </thead>\n",
       "  <tbody>\n",
       "    <tr>\n",
       "      <th>0</th>\n",
       "      <td>0.033333</td>\n",
       "      <td>0.000021</td>\n",
       "      <td>1.0</td>\n",
       "      <td>1.0</td>\n",
       "      <td>1</td>\n",
       "      <td>0</td>\n",
       "      <td>0</td>\n",
       "      <td>0</td>\n",
       "      <td>1</td>\n",
       "      <td>0</td>\n",
       "      <td>...</td>\n",
       "      <td>0</td>\n",
       "      <td>0</td>\n",
       "      <td>0</td>\n",
       "      <td>0</td>\n",
       "      <td>0</td>\n",
       "      <td>0</td>\n",
       "      <td>0</td>\n",
       "      <td>0</td>\n",
       "      <td>0</td>\n",
       "      <td>0</td>\n",
       "    </tr>\n",
       "    <tr>\n",
       "      <th>1</th>\n",
       "      <td>0.050000</td>\n",
       "      <td>0.000027</td>\n",
       "      <td>1.0</td>\n",
       "      <td>1.0</td>\n",
       "      <td>1</td>\n",
       "      <td>0</td>\n",
       "      <td>0</td>\n",
       "      <td>0</td>\n",
       "      <td>0</td>\n",
       "      <td>1</td>\n",
       "      <td>...</td>\n",
       "      <td>0</td>\n",
       "      <td>0</td>\n",
       "      <td>0</td>\n",
       "      <td>0</td>\n",
       "      <td>1</td>\n",
       "      <td>0</td>\n",
       "      <td>0</td>\n",
       "      <td>0</td>\n",
       "      <td>0</td>\n",
       "      <td>0</td>\n",
       "    </tr>\n",
       "    <tr>\n",
       "      <th>2</th>\n",
       "      <td>0.028333</td>\n",
       "      <td>0.000008</td>\n",
       "      <td>0.2</td>\n",
       "      <td>1.0</td>\n",
       "      <td>1</td>\n",
       "      <td>0</td>\n",
       "      <td>0</td>\n",
       "      <td>0</td>\n",
       "      <td>0</td>\n",
       "      <td>1</td>\n",
       "      <td>...</td>\n",
       "      <td>0</td>\n",
       "      <td>0</td>\n",
       "      <td>0</td>\n",
       "      <td>0</td>\n",
       "      <td>0</td>\n",
       "      <td>0</td>\n",
       "      <td>0</td>\n",
       "      <td>0</td>\n",
       "      <td>0</td>\n",
       "      <td>0</td>\n",
       "    </tr>\n",
       "    <tr>\n",
       "      <th>3</th>\n",
       "      <td>0.116667</td>\n",
       "      <td>0.000019</td>\n",
       "      <td>0.4</td>\n",
       "      <td>1.0</td>\n",
       "      <td>1</td>\n",
       "      <td>0</td>\n",
       "      <td>0</td>\n",
       "      <td>0</td>\n",
       "      <td>0</td>\n",
       "      <td>1</td>\n",
       "      <td>...</td>\n",
       "      <td>0</td>\n",
       "      <td>0</td>\n",
       "      <td>0</td>\n",
       "      <td>0</td>\n",
       "      <td>0</td>\n",
       "      <td>0</td>\n",
       "      <td>0</td>\n",
       "      <td>0</td>\n",
       "      <td>0</td>\n",
       "      <td>0</td>\n",
       "    </tr>\n",
       "    <tr>\n",
       "      <th>4</th>\n",
       "      <td>0.093333</td>\n",
       "      <td>0.000015</td>\n",
       "      <td>1.0</td>\n",
       "      <td>1.0</td>\n",
       "      <td>1</td>\n",
       "      <td>0</td>\n",
       "      <td>0</td>\n",
       "      <td>0</td>\n",
       "      <td>0</td>\n",
       "      <td>1</td>\n",
       "      <td>...</td>\n",
       "      <td>0</td>\n",
       "      <td>0</td>\n",
       "      <td>0</td>\n",
       "      <td>0</td>\n",
       "      <td>0</td>\n",
       "      <td>0</td>\n",
       "      <td>0</td>\n",
       "      <td>0</td>\n",
       "      <td>0</td>\n",
       "      <td>0</td>\n",
       "    </tr>\n",
       "  </tbody>\n",
       "</table>\n",
       "<p>5 rows × 70 columns</p>\n",
       "</div>"
      ],
      "text/plain": [
       "   Amount Requested  Debt-To-Income Ratio  Employment Length  Policy Code  \\\n",
       "0          0.033333              0.000021                1.0          1.0   \n",
       "1          0.050000              0.000027                1.0          1.0   \n",
       "2          0.028333              0.000008                0.2          1.0   \n",
       "3          0.116667              0.000019                0.4          1.0   \n",
       "4          0.093333              0.000015                1.0          1.0   \n",
       "\n",
       "   Approved  Loan Title_Business  Loan Title_Business Loan  \\\n",
       "0         1                    0                         0   \n",
       "1         1                    0                         0   \n",
       "2         1                    0                         0   \n",
       "3         1                    0                         0   \n",
       "4         1                    0                         0   \n",
       "\n",
       "   Loan Title_Car financing  Loan Title_Credit card refinancing  \\\n",
       "0                         0                                   1   \n",
       "1                         0                                   0   \n",
       "2                         0                                   0   \n",
       "3                         0                                   0   \n",
       "4                         0                                   0   \n",
       "\n",
       "   Loan Title_Debt consolidation    ...     State_SD  State_TN  State_TX  \\\n",
       "0                              0    ...            0         0         0   \n",
       "1                              1    ...            0         0         0   \n",
       "2                              1    ...            0         0         0   \n",
       "3                              1    ...            0         0         0   \n",
       "4                              1    ...            0         0         0   \n",
       "\n",
       "   State_UT  State_VA  State_VT  State_WA  State_WI  State_WV  State_WY  \n",
       "0         0         0         0         0         0         0         0  \n",
       "1         0         1         0         0         0         0         0  \n",
       "2         0         0         0         0         0         0         0  \n",
       "3         0         0         0         0         0         0         0  \n",
       "4         0         0         0         0         0         0         0  \n",
       "\n",
       "[5 rows x 70 columns]"
      ]
     },
     "execution_count": 22,
     "metadata": {},
     "output_type": "execute_result"
    }
   ],
   "source": [
    "data.head()"
   ]
  },
  {
   "cell_type": "markdown",
   "metadata": {},
   "source": [
    "## Using machine learning to analyze data"
   ]
  },
  {
   "cell_type": "code",
   "execution_count": 23,
   "metadata": {},
   "outputs": [],
   "source": [
    "from sklearn.model_selection import train_test_split\n",
    "from sklearn.linear_model import LinearRegression, LogisticRegression\n",
    "from sklearn.model_selection import cross_val_score\n",
    "from sklearn.metrics import confusion_matrix, mean_squared_error, mean_absolute_error"
   ]
  },
  {
   "cell_type": "code",
   "execution_count": 24,
   "metadata": {},
   "outputs": [],
   "source": [
    "#Split the test into training and test set\n",
    "Train, Test = train_test_split (data, test_size=0.2, random_state=1)"
   ]
  },
  {
   "cell_type": "code",
   "execution_count": 25,
   "metadata": {},
   "outputs": [
    {
     "name": "stdout",
     "output_type": "stream",
     "text": [
      "Approval number: 102521\n",
      "Reject number: 2067984\n"
     ]
    }
   ],
   "source": [
    "approve = Train[Train['Approved']==1]\n",
    "reject = Train[Train['Approved']==0]\n",
    "print('Approval number:', len(approve))\n",
    "print('Reject number:', len(reject))"
   ]
  },
  {
   "cell_type": "markdown",
   "metadata": {},
   "source": [
    "## Using linear regression to predict the maximum amount of money "
   ]
  },
  {
   "cell_type": "code",
   "execution_count": 18,
   "metadata": {},
   "outputs": [],
   "source": [
    "#Fit the model and calculate the predicted outcome\n",
    "approve_target = approve['Amount Requested']\n",
    "approve_feature = approve.drop(['Amount Requested', 'Approved'], axis = 1)\n",
    "\n",
    "max_model = LinearRegression()\n",
    "max_model.fit (approve_feature, approve_target)\n",
    "\n",
    "pred = max_model.predict(approve_feature)\n",
    "true_pred = scaler_1.inverse_transform(pred.reshape(-1,1))\n",
    "origin = scaler_1.inverse_transform(np.array(approve_target).reshape(-1,1))"
   ]
  },
  {
   "cell_type": "code",
   "execution_count": 19,
   "metadata": {},
   "outputs": [
    {
     "name": "stderr",
     "output_type": "stream",
     "text": [
      "C:\\ProgramData\\Anaconda3\\lib\\site-packages\\sklearn\\metrics\\scorer.py:100: DeprecationWarning: Scoring method mean_squared_error was renamed to neg_mean_squared_error in version 0.18 and will be removed in 0.20.\n",
      "  sample_weight=sample_weight)\n",
      "C:\\ProgramData\\Anaconda3\\lib\\site-packages\\sklearn\\metrics\\scorer.py:100: DeprecationWarning: Scoring method mean_squared_error was renamed to neg_mean_squared_error in version 0.18 and will be removed in 0.20.\n",
      "  sample_weight=sample_weight)\n",
      "C:\\ProgramData\\Anaconda3\\lib\\site-packages\\sklearn\\metrics\\scorer.py:100: DeprecationWarning: Scoring method mean_squared_error was renamed to neg_mean_squared_error in version 0.18 and will be removed in 0.20.\n",
      "  sample_weight=sample_weight)\n",
      "C:\\ProgramData\\Anaconda3\\lib\\site-packages\\sklearn\\metrics\\scorer.py:100: DeprecationWarning: Scoring method mean_absolute_error was renamed to neg_mean_absolute_error in version 0.18 and will be removed in 0.20.\n",
      "  sample_weight=sample_weight)\n",
      "C:\\ProgramData\\Anaconda3\\lib\\site-packages\\sklearn\\metrics\\scorer.py:100: DeprecationWarning: Scoring method mean_absolute_error was renamed to neg_mean_absolute_error in version 0.18 and will be removed in 0.20.\n",
      "  sample_weight=sample_weight)\n"
     ]
    },
    {
     "name": "stdout",
     "output_type": "stream",
     "text": [
      "CV MSE mean: 0.0010702110262872475\n",
      "CV MAE mean: 0.026569343911488238\n",
      "True MSE mean, 96134960.25093466\n",
      "True MAE mean 7970.485538100121\n"
     ]
    },
    {
     "name": "stderr",
     "output_type": "stream",
     "text": [
      "C:\\ProgramData\\Anaconda3\\lib\\site-packages\\sklearn\\metrics\\scorer.py:100: DeprecationWarning: Scoring method mean_absolute_error was renamed to neg_mean_absolute_error in version 0.18 and will be removed in 0.20.\n",
      "  sample_weight=sample_weight)\n"
     ]
    }
   ],
   "source": [
    "#Calculate the validity of the model using mse, mae, \n",
    "mse = cross_val_score(max_model, approve_feature, approve_target,  cv=3, scoring='mean_squared_error')\n",
    "mae = cross_val_score(max_model, approve_feature, approve_target,  cv=3, scoring='mean_absolute_error')\n",
    "\n",
    "print('CV MSE mean:',-np.mean(mse))\n",
    "print('CV MAE mean:',-np.mean(mae))\n",
    "print ('True MSE mean,', mean_squared_error(origin, true_pred))\n",
    "print ('True MAE mean', mean_absolute_error (origin, true_pred))"
   ]
  },
  {
   "cell_type": "code",
   "execution_count": 20,
   "metadata": {},
   "outputs": [
    {
     "data": {
      "text/plain": [
       "0.9948713336273395"
      ]
     },
     "execution_count": 20,
     "metadata": {},
     "output_type": "execute_result"
    }
   ],
   "source": [
    "#Use the prediction to see how the model performs in the rejection set\n",
    "reject_target = reject['Amount Requested']\n",
    "reject_feature = reject.drop(['Amount Requested', 'Approved'], axis = 1)\n",
    "reject_model = max_model.predict(reject_feature)\n",
    "\n",
    "#Calculate the probability that the predicted amount is larger than the original request\n",
    "sum(reject_model > reject_target)/len(reject_target)"
   ]
  },
  {
   "cell_type": "markdown",
   "metadata": {},
   "source": [
    "## Using logistic regression"
   ]
  },
  {
   "cell_type": "code",
   "execution_count": 26,
   "metadata": {},
   "outputs": [
    {
     "data": {
      "text/plain": [
       "LogisticRegression(C=1.0, class_weight=None, dual=False, fit_intercept=True,\n",
       "          intercept_scaling=1, max_iter=100, multi_class='ovr', n_jobs=1,\n",
       "          penalty='l2', random_state=None, solver='liblinear', tol=0.0001,\n",
       "          verbose=0, warm_start=False)"
      ]
     },
     "execution_count": 26,
     "metadata": {},
     "output_type": "execute_result"
    }
   ],
   "source": [
    "from sklearn.linear_model import LogisticRegression\n",
    "\n",
    "#Using 'l2 penalty' instead of 'l1' as I do not want to make the coefficients becomes 0.\n",
    "classifier = LogisticRegression(penalty='l2')\n",
    "\n",
    "logistic_target = Train['Approved']\n",
    "logistic_feature = Train.drop(['Approved'], axis=1)\n",
    "\n",
    "classifier.fit(logistic_feature, logistic_target)"
   ]
  },
  {
   "cell_type": "code",
   "execution_count": 24,
   "metadata": {},
   "outputs": [
    {
     "name": "stdout",
     "output_type": "stream",
     "text": [
      "CV accuracy: 0.9950352567614272\n",
      "CV f1: 0.9494427275039687\n",
      "CV roc_auc mean: 0.9916996147150585\n"
     ]
    }
   ],
   "source": [
    "#Check the performance using cross_validation. \n",
    "#CV =2 in order to increase the speed of the classification\n",
    "accuracy = cross_val_score(classifier, logistic_feature, logistic_target, cv=2, scoring='accuracy')\n",
    "f1 = cross_val_score(classifier, logistic_feature, logistic_target, cv=2, scoring='f1')\n",
    "roc_auc = cross_val_score(classifier, logistic_feature, logistic_target, cv=2, scoring='roc_auc')\n",
    "\n",
    "print('CV accuracy:', np.mean(accuracy))\n",
    "print('CV f1:', np.mean(f1))\n",
    "print('CV roc_auc mean:', np.mean(roc_auc))"
   ]
  },
  {
   "cell_type": "markdown",
   "metadata": {},
   "source": [
    "## Using KNN for classification"
   ]
  },
  {
   "cell_type": "code",
   "execution_count": 21,
   "metadata": {},
   "outputs": [
    {
     "name": "stderr",
     "output_type": "stream",
     "text": [
      "C:\\ProgramData\\Anaconda3\\lib\\site-packages\\sklearn\\model_selection\\_split.py:2026: FutureWarning: From version 0.21, test_size will always complement train_size unless both are specified.\n",
      "  FutureWarning)\n"
     ]
    }
   ],
   "source": [
    "#Split the data due to computational constraint\n",
    "Train_3, Train_4 = train_test_split (Train, train_size=0.01)"
   ]
  },
  {
   "cell_type": "code",
   "execution_count": 23,
   "metadata": {},
   "outputs": [
    {
     "name": "stdout",
     "output_type": "stream",
     "text": [
      "KNN accuracy: 0.9883437696314203\n",
      "KNN f1: 0.8679608561261332\n",
      "KNN roc_auc mean: 0.9479497884853844\n"
     ]
    }
   ],
   "source": [
    "from sklearn.neighbors import KNeighborsClassifier\n",
    "\n",
    "KNN_target = Train_3['Approved']\n",
    "KNN_feature = Train_3.drop(['Approved'], axis=1)\n",
    "\n",
    "KNN = KNeighborsClassifier(n_neighbors=3)\n",
    "KNN.fit(KNN_feature, KNN_target)\n",
    "\n",
    "KNN_accuracy = cross_val_score(KNN, KNN_feature, KNN_target, cv=2, scoring='accuracy')\n",
    "KNN_f1 = cross_val_score(KNN, KNN_feature, KNN_target, cv=2, scoring='f1')\n",
    "KNN_roc_auc = cross_val_score(KNN, KNN_feature, KNN_target, cv=2, scoring='roc_auc')\n",
    "\n",
    "print('KNN accuracy:', np.mean(KNN_accuracy))\n",
    "print('KNN f1:', np.mean(KNN_f1))\n",
    "print('KNN roc_auc mean:', np.mean(KNN_roc_auc))"
   ]
  },
  {
   "cell_type": "markdown",
   "metadata": {},
   "source": [
    "## Using K-Means for clustering and classification"
   ]
  },
  {
   "cell_type": "code",
   "execution_count": null,
   "metadata": {},
   "outputs": [],
   "source": [
    "#Using a bigger set of data because K-Means runs faster than KNN classification\n",
    "Train_1, Train_2 = train_test_split (Train, train_size=0.4)"
   ]
  },
  {
   "cell_type": "code",
   "execution_count": 130,
   "metadata": {},
   "outputs": [
    {
     "name": "stdout",
     "output_type": "stream",
     "text": [
      "k: 2  cost: 3385567.9746619887\n",
      "k: 3  cost: 3040911.3697233973\n",
      "k: 4  cost: 2794981.8980423673\n",
      "k: 5  cost: 2611959.536186322\n",
      "k: 6  cost: 2533919.1582933646\n",
      "k: 7  cost: 2451530.263294253\n"
     ]
    }
   ],
   "source": [
    "#First, we may want to know how many clusters we should apply for our model\n",
    "#Code for finding the optimal k-cluster for K-Means comes from datanovia.com\n",
    "for k in range (2, 8):\n",
    "    kmeans_model = KMeans(n_clusters=k, random_state=1).fit(Train.iloc[:, :])\n",
    "    labels = kmeans_model.labels_\n",
    "    interia = kmeans_model.inertia_\n",
    "    print (\"k:\",k, \" cost:\", interia)"
   ]
  },
  {
   "cell_type": "code",
   "execution_count": 132,
   "metadata": {},
   "outputs": [],
   "source": [
    "from sklearn.cluster import KMeans\n",
    "\n",
    "kmeans = KMeans(n_clusters=5)\n",
    "K_target = Train_1['Approved']\n",
    "K_feature = Train_1.drop(['Approved'], axis = 1)\n",
    "K_pred = kmeans.fit_predict(K_feature)"
   ]
  },
  {
   "cell_type": "code",
   "execution_count": 134,
   "metadata": {},
   "outputs": [
    {
     "name": "stderr",
     "output_type": "stream",
     "text": [
      "C:\\ProgramData\\Anaconda3\\lib\\site-packages\\ipykernel_launcher.py:1: SettingWithCopyWarning: \n",
      "A value is trying to be set on a copy of a slice from a DataFrame.\n",
      "Try using .loc[row_indexer,col_indexer] = value instead\n",
      "\n",
      "See the caveats in the documentation: http://pandas.pydata.org/pandas-docs/stable/indexing.html#indexing-view-versus-copy\n",
      "  \"\"\"Entry point for launching an IPython kernel.\n"
     ]
    }
   ],
   "source": [
    "Train_1['K_group'] = K_pred"
   ]
  },
  {
   "cell_type": "code",
   "execution_count": 136,
   "metadata": {},
   "outputs": [],
   "source": [
    "#Calulate the probability of each group to acknowledge if K-Means could be used for classifications or not\n",
    "K_group_0 = Train_1[Train_1['K_group']==0][['Approved', 'K_group']]\n",
    "K_group_1 = Train_1[Train_1['K_group']==1][['Approved', 'K_group']]\n",
    "K_group_2 = Train_1[Train_1['K_group']==2][['Approved', 'K_group']]\n",
    "K_group_3 = Train_1[Train_1['K_group']==3][['Approved', 'K_group']]\n",
    "K_group_4 = Train_1[Train_1['K_group']==4][['Approved', 'K_group']]\n",
    "\n",
    "prob_0 = len(K_group_0[K_group_0['Approved']==1])/len(K_group_0)\n",
    "prob_1 = len(K_group_1[K_group_1['Approved']==1])/len(K_group_1)\n",
    "prob_2 = len(K_group_2[K_group_2['Approved']==1])/len(K_group_2)\n",
    "prob_3 = len(K_group_3[K_group_3['Approved']==1])/len(K_group_3)\n",
    "prob_4 = len(K_group_4[K_group_4['Approved']==1])/len(K_group_4)"
   ]
  },
  {
   "cell_type": "code",
   "execution_count": 137,
   "metadata": {},
   "outputs": [
    {
     "data": {
      "image/png": "[encoded data removed]",
      "text/plain": [
       "<Figure size 432x288 with 1 Axes>"
      ]
     },
     "metadata": {},
     "output_type": "display_data"
    }
   ],
   "source": [
    "#Plot the histogram of the clustering result\n",
    "objects = ('Group 0', 'Group 1', 'Group 2', 'Group 3', 'Group 4', 'Group 5')\n",
    "y_pos = ([0,1,2,3,4])\n",
    "y_prob = ([prob_0, prob_1, prob_2, prob_3, prob_4])\n",
    "\n",
    "plt.bar(y_pos, y_prob, align='center', alpha=0.5)\n",
    "plt.xticks (y_pos, objects)\n",
    "plt.ylabel('Approve probability')\n",
    "plt.title('Approval probability in each clustering')\n",
    "plt.show()"
   ]
  },
  {
   "cell_type": "markdown",
   "metadata": {},
   "source": [
    "Because no cluster has a high proportion of the approval probability, K-means clustering does not provide insights into the classification task."
   ]
  },
  {
   "cell_type": "markdown",
   "metadata": {},
   "source": [
    "## Test the performance on the hold-out set"
   ]
  },
  {
   "cell_type": "code",
   "execution_count": 230,
   "metadata": {},
   "outputs": [
    {
     "data": {
      "text/html": [
       "<div>\n",
       "<style scoped>\n",
       "    .dataframe tbody tr th:only-of-type {\n",
       "        vertical-align: middle;\n",
       "    }\n",
       "\n",
       "    .dataframe tbody tr th {\n",
       "        vertical-align: top;\n",
       "    }\n",
       "\n",
       "    .dataframe thead th {\n",
       "        text-align: right;\n",
       "    }\n",
       "</style>\n",
       "<table border=\"1\" class=\"dataframe\">\n",
       "  <thead>\n",
       "    <tr style=\"text-align: right;\">\n",
       "      <th></th>\n",
       "      <th>Amount Requested</th>\n",
       "      <th>Debt-To-Income Ratio</th>\n",
       "      <th>Employment Length</th>\n",
       "      <th>Policy Code</th>\n",
       "      <th>Approved</th>\n",
       "      <th>Loan Title_Business</th>\n",
       "      <th>Loan Title_Business Loan</th>\n",
       "      <th>Loan Title_Car financing</th>\n",
       "      <th>Loan Title_Credit card refinancing</th>\n",
       "      <th>Loan Title_Debt consolidation</th>\n",
       "      <th>...</th>\n",
       "      <th>State_SD</th>\n",
       "      <th>State_TN</th>\n",
       "      <th>State_TX</th>\n",
       "      <th>State_UT</th>\n",
       "      <th>State_VA</th>\n",
       "      <th>State_VT</th>\n",
       "      <th>State_WA</th>\n",
       "      <th>State_WI</th>\n",
       "      <th>State_WV</th>\n",
       "      <th>State_WY</th>\n",
       "    </tr>\n",
       "  </thead>\n",
       "  <tbody>\n",
       "    <tr>\n",
       "      <th>1971972</th>\n",
       "      <td>0.031667</td>\n",
       "      <td>0.000104</td>\n",
       "      <td>0.0</td>\n",
       "      <td>0.0</td>\n",
       "      <td>0</td>\n",
       "      <td>0</td>\n",
       "      <td>0</td>\n",
       "      <td>0</td>\n",
       "      <td>0</td>\n",
       "      <td>1</td>\n",
       "      <td>...</td>\n",
       "      <td>0</td>\n",
       "      <td>0</td>\n",
       "      <td>0</td>\n",
       "      <td>0</td>\n",
       "      <td>0</td>\n",
       "      <td>0</td>\n",
       "      <td>0</td>\n",
       "      <td>0</td>\n",
       "      <td>0</td>\n",
       "      <td>0</td>\n",
       "    </tr>\n",
       "    <tr>\n",
       "      <th>2095075</th>\n",
       "      <td>0.050000</td>\n",
       "      <td>0.000030</td>\n",
       "      <td>0.0</td>\n",
       "      <td>0.0</td>\n",
       "      <td>0</td>\n",
       "      <td>1</td>\n",
       "      <td>0</td>\n",
       "      <td>0</td>\n",
       "      <td>0</td>\n",
       "      <td>0</td>\n",
       "      <td>...</td>\n",
       "      <td>0</td>\n",
       "      <td>0</td>\n",
       "      <td>0</td>\n",
       "      <td>0</td>\n",
       "      <td>0</td>\n",
       "      <td>0</td>\n",
       "      <td>0</td>\n",
       "      <td>0</td>\n",
       "      <td>0</td>\n",
       "      <td>0</td>\n",
       "    </tr>\n",
       "    <tr>\n",
       "      <th>898190</th>\n",
       "      <td>0.026667</td>\n",
       "      <td>0.000003</td>\n",
       "      <td>0.0</td>\n",
       "      <td>0.0</td>\n",
       "      <td>0</td>\n",
       "      <td>0</td>\n",
       "      <td>0</td>\n",
       "      <td>0</td>\n",
       "      <td>0</td>\n",
       "      <td>0</td>\n",
       "      <td>...</td>\n",
       "      <td>0</td>\n",
       "      <td>0</td>\n",
       "      <td>0</td>\n",
       "      <td>0</td>\n",
       "      <td>0</td>\n",
       "      <td>0</td>\n",
       "      <td>0</td>\n",
       "      <td>0</td>\n",
       "      <td>0</td>\n",
       "      <td>0</td>\n",
       "    </tr>\n",
       "    <tr>\n",
       "      <th>450732</th>\n",
       "      <td>0.033333</td>\n",
       "      <td>0.000002</td>\n",
       "      <td>0.0</td>\n",
       "      <td>0.0</td>\n",
       "      <td>0</td>\n",
       "      <td>0</td>\n",
       "      <td>0</td>\n",
       "      <td>0</td>\n",
       "      <td>0</td>\n",
       "      <td>0</td>\n",
       "      <td>...</td>\n",
       "      <td>0</td>\n",
       "      <td>0</td>\n",
       "      <td>0</td>\n",
       "      <td>0</td>\n",
       "      <td>0</td>\n",
       "      <td>0</td>\n",
       "      <td>0</td>\n",
       "      <td>0</td>\n",
       "      <td>0</td>\n",
       "      <td>0</td>\n",
       "    </tr>\n",
       "    <tr>\n",
       "      <th>389494</th>\n",
       "      <td>0.016667</td>\n",
       "      <td>0.000034</td>\n",
       "      <td>0.0</td>\n",
       "      <td>0.0</td>\n",
       "      <td>0</td>\n",
       "      <td>0</td>\n",
       "      <td>0</td>\n",
       "      <td>0</td>\n",
       "      <td>1</td>\n",
       "      <td>0</td>\n",
       "      <td>...</td>\n",
       "      <td>0</td>\n",
       "      <td>0</td>\n",
       "      <td>0</td>\n",
       "      <td>0</td>\n",
       "      <td>0</td>\n",
       "      <td>0</td>\n",
       "      <td>0</td>\n",
       "      <td>0</td>\n",
       "      <td>0</td>\n",
       "      <td>0</td>\n",
       "    </tr>\n",
       "  </tbody>\n",
       "</table>\n",
       "<p>5 rows × 70 columns</p>\n",
       "</div>"
      ],
      "text/plain": [
       "         Amount Requested  Debt-To-Income Ratio  Employment Length  \\\n",
       "1971972          0.031667              0.000104                0.0   \n",
       "2095075          0.050000              0.000030                0.0   \n",
       "898190           0.026667              0.000003                0.0   \n",
       "450732           0.033333              0.000002                0.0   \n",
       "389494           0.016667              0.000034                0.0   \n",
       "\n",
       "         Policy Code  Approved  Loan Title_Business  Loan Title_Business Loan  \\\n",
       "1971972          0.0         0                    0                         0   \n",
       "2095075          0.0         0                    1                         0   \n",
       "898190           0.0         0                    0                         0   \n",
       "450732           0.0         0                    0                         0   \n",
       "389494           0.0         0                    0                         0   \n",
       "\n",
       "         Loan Title_Car financing  Loan Title_Credit card refinancing  \\\n",
       "1971972                         0                                   0   \n",
       "2095075                         0                                   0   \n",
       "898190                          0                                   0   \n",
       "450732                          0                                   0   \n",
       "389494                          0                                   1   \n",
       "\n",
       "         Loan Title_Debt consolidation    ...     State_SD  State_TN  \\\n",
       "1971972                              1    ...            0         0   \n",
       "2095075                              0    ...            0         0   \n",
       "898190                               0    ...            0         0   \n",
       "450732                               0    ...            0         0   \n",
       "389494                               0    ...            0         0   \n",
       "\n",
       "         State_TX  State_UT  State_VA  State_VT  State_WA  State_WI  State_WV  \\\n",
       "1971972         0         0         0         0         0         0         0   \n",
       "2095075         0         0         0         0         0         0         0   \n",
       "898190          0         0         0         0         0         0         0   \n",
       "450732          0         0         0         0         0         0         0   \n",
       "389494          0         0         0         0         0         0         0   \n",
       "\n",
       "         State_WY  \n",
       "1971972         0  \n",
       "2095075         0  \n",
       "898190          0  \n",
       "450732          0  \n",
       "389494          0  \n",
       "\n",
       "[5 rows x 70 columns]"
      ]
     },
     "execution_count": 230,
     "metadata": {},
     "output_type": "execute_result"
    }
   ],
   "source": [
    "Test.head()"
   ]
  },
  {
   "cell_type": "markdown",
   "metadata": {},
   "source": [
    "### Test the performance of using Logistic Regression to classify the test set"
   ]
  },
  {
   "cell_type": "code",
   "execution_count": 24,
   "metadata": {},
   "outputs": [],
   "source": [
    "from sklearn.metrics import mean_squared_error, mean_absolute_error, r2_score, accuracy_score, roc_auc_score\n",
    "\n",
    "#Logistics regression \n",
    "test_target = Test['Approved']\n",
    "test_feature = Test.drop (['Approved'], axis = 1)"
   ]
  },
  {
   "cell_type": "code",
   "execution_count": 154,
   "metadata": {},
   "outputs": [
    {
     "name": "stdout",
     "output_type": "stream",
     "text": [
      "r2_score : 0.8899927487781512\n",
      "accuracy score: 0.9950979217768375\n",
      "roc_auc_score: 0.9911492579634363\n"
     ]
    }
   ],
   "source": [
    "test_pred = classifier.predict(test_feature)\n",
    "print ('r2_score :', r2_score(test_target, test_pred))\n",
    "print ('accuracy score:', accuracy_score(test_target, test_pred))\n",
    "print ('roc_auc_score:', roc_auc_score(test_target, test_pred))"
   ]
  },
  {
   "cell_type": "markdown",
   "metadata": {},
   "source": [
    "### Test the performance of KNN to classify the test set"
   ]
  },
  {
   "cell_type": "code",
   "execution_count": null,
   "metadata": {},
   "outputs": [],
   "source": [
    "KNN_pred = KNN.predict(test_feature)\n",
    "print ('KNN_r2_score :', r2_score(test_target, KNN_pred))\n",
    "print ('accuracy score:', accuracy_score(test_target, KNN_pred))\n",
    "print ('roc_auc_score:', roc_auc_score(test_target, KNN_pred))\n",
    "#Cannot apply KNN for the test set. Maybe the test set is too large for the KNN to calculate the distance. "
   ]
  },
  {
   "cell_type": "markdown",
   "metadata": {},
   "source": [
    "### Test the performance of Linear Regression to predict maximum requested loan for rejected people"
   ]
  },
  {
   "cell_type": "code",
   "execution_count": 242,
   "metadata": {},
   "outputs": [
    {
     "data": {
      "text/plain": [
       "0.994940658584351"
      ]
     },
     "execution_count": 242,
     "metadata": {},
     "output_type": "execute_result"
    }
   ],
   "source": [
    "#Linear regression \n",
    "test_reject = Test[Test['Approved']==0]\n",
    "test_reject_target = test_reject['Amount Requested']\n",
    "test_reject_feature = test_reject.drop (['Amount Requested', 'Approved'], axis = 1)\n",
    "\n",
    "#Predict the model\n",
    "reject_test_model = max_model.predict(test_reject_feature)\n",
    "\n",
    "#How many predicted results are larger than the original request of the unseen data? \n",
    "sum(reject_test_model > test_reject_target)/len(reject_test_model)"
   ]
  }
 ],
 "metadata": {
  "kernelspec": {
   "display_name": "Python 3",
   "language": "python",
   "name": "python3"
  },
  "language_info": {
   "codemirror_mode": {
    "name": "ipython",
    "version": 3
   },
   "file_extension": ".py",
   "mimetype": "text/x-python",
   "name": "python",
   "nbconvert_exporter": "python",
   "pygments_lexer": "ipython3",
   "version": "3.6.5"
  }
 },
 "nbformat": 4,
 "nbformat_minor": 2
}
