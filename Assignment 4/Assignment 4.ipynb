{
 "cells": [
  {
   "cell_type": "code",
   "execution_count": 79,
   "metadata": {},
   "outputs": [],
   "source": [
    "import mnist\n",
    "import numpy as np\n",
    "import matplotlib.pyplot as plt\n",
    "import matplotlib.image as mpimg\n",
    "from sklearn import svm\n",
    "import time\n",
    "from sklearn.metrics import classification_report\n",
    "import matplotlib"
   ]
  },
  {
   "cell_type": "markdown",
   "metadata": {},
   "source": [
    "### Loading training set and test set"
   ]
  },
  {
   "cell_type": "code",
   "execution_count": 126,
   "metadata": {},
   "outputs": [],
   "source": [
    "train_images = mnist.train_images()\n",
    "train_labels = mnist.train_labels()\n",
    "test_images = mnist.test_images()\n",
    "test_labels = mnist.test_labels()"
   ]
  },
  {
   "cell_type": "markdown",
   "metadata": {},
   "source": [
    "### Define training set and test set"
   ]
  },
  {
   "cell_type": "code",
   "execution_count": 127,
   "metadata": {},
   "outputs": [
    {
     "name": "stdout",
     "output_type": "stream",
     "text": [
      "Shape of 6s training set: (5918, 784)\n",
      "Shape of 2s training set: (5958, 784)\n"
     ]
    }
   ],
   "source": [
    "#Define 0 as the labels for the training images of 6\n",
    "train_images_6 = train_images[train_labels == 6]\n",
    "train_images_6 = train_images_6.reshape(train_images_6.shape[0], 28*28)\n",
    "train_labels_6 = np.zeros(train_images_6.shape[0])\n",
    "\n",
    "#Define 1 as the labels for the training images of 2\n",
    "train_images_2 = train_images[train_labels == 2]\n",
    "train_images_2 = train_images_2.reshape(train_images_2.shape[0], 28*28)\n",
    "train_labels_2 = np.ones(train_images_2.shape[0])\n",
    "\n",
    "#Merge two dataset together\n",
    "X_training = np.concatenate((train_images_6, train_images_2), axis=0)\n",
    "Y_training = np.concatenate((train_labels_6, train_labels_2), axis=0)\n",
    "\n",
    "#Check the balance between two dataset\n",
    "print (\"Shape of 6s training set:\", train_images_6.shape)\n",
    "print (\"Shape of 2s training set:\", train_images_2.shape)"
   ]
  },
  {
   "cell_type": "code",
   "execution_count": 128,
   "metadata": {},
   "outputs": [],
   "source": [
    "#Define 0 as the labels for the test images of 6\n",
    "test_images_6 = test_images[test_labels == 6]\n",
    "test_images_6 = test_images_6.reshape(test_images_6.shape[0], 28*28)\n",
    "test_labels_6 = np.zeros(test_images_6.shape[0])\n",
    "\n",
    "#Define 1 as the labels for the test images of 2\n",
    "test_images_2 = test_images[test_labels == 2]\n",
    "test_images_2 = test_images_2.reshape(test_images_2.shape[0], 28*28)\n",
    "test_labels_2 = np.ones(test_images_2.shape[0])\n",
    "\n",
    "#Merge two dataset together\n",
    "X_test = np.concatenate((test_images_6, test_images_2), axis=0)\n",
    "Y_test = np.concatenate((test_labels_6, test_labels_2), axis=0)"
   ]
  },
  {
   "cell_type": "code",
   "execution_count": 129,
   "metadata": {},
   "outputs": [
    {
     "name": "stdout",
     "output_type": "stream",
     "text": [
      "Number of training set: 11876\n",
      "Test set data shape: 1990\n"
     ]
    }
   ],
   "source": [
    "#Checking the shape of the dataset\n",
    "print (\"Number of training set:\", X_training.shape[0])\n",
    "print (\"Test set data shape:\", X_test.shape[0])"
   ]
  },
  {
   "cell_type": "markdown",
   "metadata": {},
   "source": [
    "### Plot some of the samples"
   ]
  },
  {
   "cell_type": "code",
   "execution_count": 131,
   "metadata": {},
   "outputs": [
    {
     "name": "stderr",
     "output_type": "stream",
     "text": [
      "C:\\ProgramData\\Anaconda3\\lib\\site-packages\\ipykernel_launcher.py:1: DeprecationWarning: This function is deprecated. Please call randint(0, 11875 + 1) instead\n",
      "  \"\"\"Entry point for launching an IPython kernel.\n"
     ]
    },
    {
     "data": {
      "image/png": "[encoded data removed]",
      "text/plain": [
       "<Figure size 432x288 with 16 Axes>"
      ]
     },
     "metadata": {},
     "output_type": "display_data"
    }
   ],
   "source": [
    "samples = np.random.random_integers(0, X_training.shape[0]-1, size=16)\n",
    "pos = 1\n",
    "for sample in samples:\n",
    "    plt.subplot(4,4, pos)\n",
    "    plt.axis('off')\n",
    "    plt.imshow(X_training[sample].reshape(28,28), cmap=matplotlib.cm.binary, interpolation=\"nearest\")\n",
    "    plt.title (Y_training[sample])\n",
    "    pos += 1"
   ]
  },
  {
   "cell_type": "markdown",
   "metadata": {},
   "source": [
    "### SVC with linear kernel"
   ]
  },
  {
   "cell_type": "code",
   "execution_count": 100,
   "metadata": {},
   "outputs": [
    {
     "name": "stdout",
     "output_type": "stream",
     "text": [
      "Training time: 10.417808771133423\n",
      "Accuracy on the training set: 1.0\n",
      "Accuracy on the test set: 0.9778894472361809\n",
      "Confusion matrix:\n",
      "             precision    recall  f1-score   support\n",
      "\n",
      "  Number 6s       0.98      0.97      0.98       958\n",
      "  Number 2s       0.98      0.98      0.98      1032\n",
      "\n",
      "avg / total       0.98      0.98      0.98      1990\n",
      "\n"
     ]
    }
   ],
   "source": [
    "linear_model = svm.SVC(kernel='linear')\n",
    "start_time = time.time()\n",
    "linear_model.fit(X_training, Y_training)\n",
    "end_time = time.time()\n",
    "print (\"Training time:\", end_time-start_time)\n",
    "\n",
    "Y_pred = linear_model.predict (X_test)\n",
    "target_names = ['Number 6s', 'Number 2s']\n",
    "\n",
    "print (\"Accuracy on the training set:\", linear_model.score(X_training, Y_training))\n",
    "print (\"Accuracy on the test set:\", linear_model.score(X_test, Y_test))\n",
    "print (\"Confusion matrix:\")\n",
    "print (classification_report (Y_test, Y_pred, target_names=target_names))"
   ]
  },
  {
   "cell_type": "markdown",
   "metadata": {},
   "source": [
    "### SVC with poly kernel"
   ]
  },
  {
   "cell_type": "code",
   "execution_count": 132,
   "metadata": {},
   "outputs": [
    {
     "name": "stdout",
     "output_type": "stream",
     "text": [
      "Training time: 4.613796710968018\n",
      "Accuracy on the training set: 1.0\n",
      "Accuracy on the test set: 0.9949748743718593\n",
      "Confusion matrix:\n",
      "             precision    recall  f1-score   support\n",
      "\n",
      "  Number 6s       0.99      1.00      0.99       958\n",
      "  Number 2s       1.00      0.99      1.00      1032\n",
      "\n",
      "avg / total       0.99      0.99      0.99      1990\n",
      "\n"
     ]
    }
   ],
   "source": [
    "poly_model = svm.SVC(kernel='poly')\n",
    "start = time.time()\n",
    "poly_model.fit(X_training, Y_training)\n",
    "end = time.time()\n",
    "print (\"Training time:\", end-start)\n",
    "\n",
    "Y_pred = poly_model.predict (X_test)\n",
    "target_names = ['Number 6s', 'Number 2s']\n",
    "\n",
    "print (\"Accuracy on the training set:\", poly_model.score(X_training, Y_training))\n",
    "print (\"Accuracy on the test set:\", poly_model.score(X_test, Y_test))\n",
    "print (\"Confusion matrix:\")\n",
    "print (classification_report (Y_test, Y_pred, target_names=target_names))"
   ]
  },
  {
   "cell_type": "markdown",
   "metadata": {},
   "source": [
    "### SVC with RBF kernel"
   ]
  },
  {
   "cell_type": "code",
   "execution_count": 105,
   "metadata": {},
   "outputs": [
    {
     "name": "stdout",
     "output_type": "stream",
     "text": [
      "Training time: 220.04766869544983\n",
      "Accuracy on the training set: 1.0\n",
      "Accuracy on the test set: 0.5185929648241207\n",
      "Confusion matrix:\n",
      "             precision    recall  f1-score   support\n",
      "\n",
      "  Number 6s       0.00      0.00      0.00       958\n",
      "  Number 2s       0.52      1.00      0.68      1032\n",
      "\n",
      "avg / total       0.27      0.52      0.35      1990\n",
      "\n"
     ]
    },
    {
     "name": "stderr",
     "output_type": "stream",
     "text": [
      "C:\\ProgramData\\Anaconda3\\lib\\site-packages\\sklearn\\metrics\\classification.py:1135: UndefinedMetricWarning: Precision and F-score are ill-defined and being set to 0.0 in labels with no predicted samples.\n",
      "  'precision', 'predicted', average, warn_for)\n"
     ]
    }
   ],
   "source": [
    "rbf_model = svm.SVC(kernel='rbf')\n",
    "start = time.time()\n",
    "rbf_model.fit(X_training, Y_training)\n",
    "end = time.time()\n",
    "print (\"Training time:\", end-start)\n",
    "\n",
    "Y_pred = rbf_model.predict (X_test)\n",
    "target_names = ['Number 6s', 'Number 2s']\n",
    "\n",
    "print (\"Accuracy on the training set:\", rbf_model.score(X_training, Y_training))\n",
    "print (\"Accuracy on the test set:\", rbf_model.score(X_test, Y_test))\n",
    "print (\"Confusion matrix:\")\n",
    "print (classification_report (Y_test, Y_pred, target_names=target_names))"
   ]
  },
  {
   "cell_type": "code",
   "execution_count": 120,
   "metadata": {},
   "outputs": [
    {
     "name": "stdout",
     "output_type": "stream",
     "text": [
      "Predicted 2s: 1990\n",
      "Predicted 6s: 0\n"
     ]
    }
   ],
   "source": [
    "print (\"Predicted 2s:\", np.sum (Y_pred == 1))\n",
    "print (\"Predicted 6s:\", np.sum(Y_pred == 0))"
   ]
  }
 ],
 "metadata": {
  "kernelspec": {
   "display_name": "Python 3",
   "language": "python",
   "name": "python3"
  },
  "language_info": {
   "codemirror_mode": {
    "name": "ipython",
    "version": 3
   },
   "file_extension": ".py",
   "mimetype": "text/x-python",
   "name": "python",
   "nbconvert_exporter": "python",
   "pygments_lexer": "ipython3",
   "version": "3.6.5"
  }
 },
 "nbformat": 4,
 "nbformat_minor": 2
}
