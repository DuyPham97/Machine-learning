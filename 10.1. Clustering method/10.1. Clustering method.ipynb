{
 "cells": [
  {
   "cell_type": "code",
   "execution_count": 1,
   "metadata": {},
   "outputs": [],
   "source": [
    "from sklearn.neighbors.kde import KernelDensity\n",
    "import numpy as np\n",
    "import pandas as pd\n",
    "import matplotlib.pyplot as plt"
   ]
  },
  {
   "cell_type": "markdown",
   "metadata": {},
   "source": [
    "### Fraud: A how-to guide"
   ]
  },
  {
   "cell_type": "code",
   "execution_count": 4,
   "metadata": {},
   "outputs": [
    {
     "data": {
      "image/png": "[encoded data removed]",
      "text/plain": [
       "<Figure size 1080x1080 with 1 Axes>"
      ]
     },
     "metadata": {},
     "output_type": "display_data"
    },
    {
     "data": {
      "image/png": "[encoded data removed]",
      "text/plain": [
       "<Figure size 1080x1080 with 1 Axes>"
      ]
     },
     "metadata": {},
     "output_type": "display_data"
    },
    {
     "data": {
      "text/plain": [
       "array([[ 2.69466151e+01,  3.95850066e+01],\n",
       "       [ 9.03482207e-01, -8.64387019e+02],\n",
       "       [ 2.19106120e+01, -5.66965911e+01],\n",
       "       [ 1.54005592e+01, -2.09916769e+02],\n",
       "       [ 3.17959904e+00, -3.85526000e+02],\n",
       "       [ 8.00961408e+00, -1.69880501e+02],\n",
       "       [ 9.85431666e+00, -1.09482299e+03],\n",
       "       [ 1.99118408e+00, -1.60521967e+02],\n",
       "       [ 1.02341345e+00, -5.61819875e+03],\n",
       "       [ 1.21731094e+01, -1.00984599e+03]])"
      ]
     },
     "execution_count": 4,
     "metadata": {},
     "output_type": "execute_result"
    }
   ],
   "source": [
    "df = pd.read_csv('Fraud.csv')\n",
    "df.head (n=5)\n",
    "\n",
    "data = []\n",
    "for i in range (len(df)-1):\n",
    "    if df['Date'][i][2:10] == 'Jun2017':\n",
    "        data.append ([int(df['Date'][i][:2]), df['Amount'][i]])\n",
    "data = np.array(data)\n",
    "\n",
    "plt.figure (figsize = (15,15))\n",
    "plt.subplot (2,1,1)\n",
    "plt.scatter(data[:,0], data[:,1])\n",
    "plt.show()\n",
    "\n",
    "plt.figure (figsize = (15,15))\n",
    "plt.subplot (2,1,2)\n",
    "plt.hist (data[:,1], bins = 10)\n",
    "plt.show()\n",
    "\n",
    "kde = KernelDensity(kernel='gaussian', bandwidth=0.2).fit(data)\n",
    "kde.sample (n_samples = 10)"
   ]
  },
  {
   "cell_type": "code",
   "execution_count": 15,
   "metadata": {},
   "outputs": [
    {
     "ename": "TypeError",
     "evalue": "score_samples() got an unexpected keyword argument 'n_samples'",
     "output_type": "error",
     "traceback": [
      "\u001b[1;31m---------------------------------------------------------------------------\u001b[0m",
      "\u001b[1;31mTypeError\u001b[0m                                 Traceback (most recent call last)",
      "\u001b[1;32m<ipython-input-15-d8bb77dda993>\u001b[0m in \u001b[0;36m<module>\u001b[1;34m()\u001b[0m\n\u001b[1;32m----> 1\u001b[1;33m \u001b[0mkde\u001b[0m\u001b[1;33m.\u001b[0m\u001b[0mscore_samples\u001b[0m \u001b[1;33m(\u001b[0m\u001b[0mn_samples\u001b[0m \u001b[1;33m=\u001b[0m \u001b[1;36m4\u001b[0m\u001b[1;33m)\u001b[0m\u001b[1;33m\u001b[0m\u001b[0m\n\u001b[0m",
      "\u001b[1;31mTypeError\u001b[0m: score_samples() got an unexpected keyword argument 'n_samples'"
     ]
    }
   ],
   "source": [
    "kde.score_samples (n_samples = 4)"
   ]
  },
  {
   "cell_type": "markdown",
   "metadata": {},
   "source": [
    "### Clustering survey data"
   ]
  },
  {
   "cell_type": "code",
   "execution_count": 52,
   "metadata": {},
   "outputs": [],
   "source": [
    "import numpy as np\n",
    "\n",
    "p_cluster = [0.4, 0.3, 0.15, 0.15]\n",
    "\n",
    "n_questions = 20\n",
    "n_people = 1000\n",
    "n_clusters = len(p_cluster)\n",
    "\n",
    "biases = np.random.beta(0.75, 0.75, size=(n_questions, n_clusters))\n",
    "people = np.random.choice(range(n_clusters), size=n_people, p=p_cluster)\n",
    "answers = np.zeros((n_people, n_questions), dtype=bool)\n",
    "\n",
    "for a in range(n_people):\n",
    "    cluster = people[a]\n",
    "    answers[a, :] = np.random.rand(n_questions) < biases[:, cluster]\n",
    "\n",
    "np.savetxt(\"questionnaire.csv\", answers, delimiter=\",\", fmt=\"%d\")\n",
    "np.savetxt(\"questionnaire_answers.csv\", people, delimiter=\",\", fmt=\"%d\")\n",
    "np.savetxt(\"questionnaire_biases.csv\", biases, delimiter=\",\", fmt=\"%.3f\")"
   ]
  },
  {
   "cell_type": "code",
   "execution_count": 10,
   "metadata": {},
   "outputs": [
    {
     "data": {
      "text/plain": [
       "0.35"
      ]
     },
     "execution_count": 10,
     "metadata": {},
     "output_type": "execute_result"
    }
   ],
   "source": [
    "biases"
   ]
  },
  {
   "cell_type": "code",
   "execution_count": 24,
   "metadata": {},
   "outputs": [
    {
     "name": "stdout",
     "output_type": "stream",
     "text": [
      "0.35\n",
      "[[0.05913659 0.15749203 0.37533506 0.40803632]\n",
      " [0.65905038 0.15078046 0.10927837 0.08089079]\n",
      " [0.35362639 0.44301759 0.18776731 0.01558871]\n",
      " ...\n",
      " [0.28221371 0.02854967 0.66673957 0.02249705]\n",
      " [0.37432373 0.30640544 0.25687377 0.06239706]\n",
      " [0.3162554  0.25252658 0.22419352 0.2070245 ]]\n"
     ]
    }
   ],
   "source": [
    "import numpy as np\n",
    "\n",
    "answers = np.loadtxt(\"questionnaire.csv\", delimiter=\",\")\n",
    "n_people, n_questions = answers.shape\n",
    "n_clusters = 4\n",
    "\n",
    "p_clusters = np.asarray([0.25, 0.25, 0.25, 0.25])\n",
    "biases = np.random.beta(0.75, 0.75, size=(n_questions, n_clusters))\n",
    "\n",
    "\n",
    "def expectation(answers, biases, p_clusters):\n",
    "\n",
    "    # This is probably not the correct answer!\n",
    "    people = np.zeros((n_people, n_clusters))\n",
    "    \n",
    "    for person in range(n_people):\n",
    "        person_answers = answers[person]\n",
    "        \n",
    "        for cluster in range(n_clusters):\n",
    "            \n",
    "            p_cluster_given_answer =  p_clusters[cluster] #prior\n",
    "            \n",
    "            for question_i, answer in enumerate(person_answers):\n",
    "                \n",
    "                # join probability of cluster given observed answers\n",
    "                p_cluster_given_answer *= (answer*biases[question_i, cluster] + (1-answer)*(1- biases[question_i, cluster]))\n",
    "                \n",
    "            people[person, cluster] = p_cluster_given_answer\n",
    "    # normalize the distributions\n",
    "    people = people / people.sum(axis=1, keepdims=1)\n",
    "    return people\n",
    "\n",
    "\n",
    "def maximization(answers, people):\n",
    "    # Treating all the data as visible, now infer the parameters for the model.\n",
    "    for i in range(answers.shape[0]):\n",
    "        biases = answers[i].mean()\n",
    "    \n",
    "    # This is probably not the correct answer!\n",
    "#     biases = np.zeros((n_questions, n_clusters)) + 0.5\n",
    "    return biases\n",
    "\n",
    "for i in range(10):\n",
    "    people = expectation(answers, biases, p_clusters)\n",
    "    biases = maximization(answers, people)\n",
    "\n",
    "print(biases)\n",
    "print(people)"
   ]
  },
  {
   "cell_type": "code",
   "execution_count": 9,
   "metadata": {},
   "outputs": [
    {
     "data": {
      "text/plain": [
       "0.35"
      ]
     },
     "execution_count": 9,
     "metadata": {},
     "output_type": "execute_result"
    }
   ],
   "source": [
    "biases"
   ]
  }
 ],
 "metadata": {
  "kernelspec": {
   "display_name": "Python 3",
   "language": "python",
   "name": "python3"
  },
  "language_info": {
   "codemirror_mode": {
    "name": "ipython",
    "version": 3
   },
   "file_extension": ".py",
   "mimetype": "text/x-python",
   "name": "python",
   "nbconvert_exporter": "python",
   "pygments_lexer": "ipython3",
   "version": "3.6.5"
  }
 },
 "nbformat": 4,
 "nbformat_minor": 2
}
